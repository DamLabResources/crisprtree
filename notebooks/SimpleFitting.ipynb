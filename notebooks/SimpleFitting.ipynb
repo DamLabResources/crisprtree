{
 "cells": [
  {
   "cell_type": "code",
   "execution_count": 1,
   "metadata": {
    "collapsed": true
   },
   "outputs": [],
   "source": [
    "import pandas as pd\n",
    "import numpy as np\n",
    "import matplotlib.pyplot as plt\n",
    "import seaborn as sbn\n",
    "\n",
    "%matplotlib inline\n",
    "\n",
    "sbn.set(font_scale=1.5)\n",
    "sbn.set_style('white')\n",
    "\n",
    "import sys\n",
    "sys.path.append('../crisprtree')\n",
    "import preprocessing\n",
    "from sklearn.linear_model import LogisticRegression"
   ]
  },
  {
   "cell_type": "code",
   "execution_count": 2,
   "metadata": {
    "collapsed": false
   },
   "outputs": [
    {
     "data": {
      "text/html": [
       "<div>\n",
       "<table border=\"1\" class=\"dataframe\">\n",
       "  <thead>\n",
       "    <tr style=\"text-align: right;\">\n",
       "      <th></th>\n",
       "      <th>ConstructBarcode</th>\n",
       "      <th>MutatedSequence</th>\n",
       "      <th>WTSequence</th>\n",
       "      <th>Annotation</th>\n",
       "      <th>TranscriptID</th>\n",
       "      <th>Protein Annotation</th>\n",
       "      <th>Day21-ETP</th>\n",
       "      <th>Category</th>\n",
       "    </tr>\n",
       "  </thead>\n",
       "  <tbody>\n",
       "    <tr>\n",
       "      <th>0</th>\n",
       "      <td>ACCGAGGATTGAGTAGTCCT</td>\n",
       "      <td>ACCGAGGATTGAGTAGTCCT</td>\n",
       "      <td>ACCGAGGAGTGAGTAGTCCT</td>\n",
       "      <td>G:T,9</td>\n",
       "      <td>ENST00000262262</td>\n",
       "      <td>52.47</td>\n",
       "      <td>3.694460</td>\n",
       "      <td>Mismatch</td>\n",
       "    </tr>\n",
       "    <tr>\n",
       "      <th>1</th>\n",
       "      <td>ACTGAGGAGTGAGTAGTCCT</td>\n",
       "      <td>ACTGAGGAGTGAGTAGTCCT</td>\n",
       "      <td>ACCGAGGAGTGAGTAGTCCT</td>\n",
       "      <td>C:T,3</td>\n",
       "      <td>ENST00000262262</td>\n",
       "      <td>52.47</td>\n",
       "      <td>3.391395</td>\n",
       "      <td>Mismatch</td>\n",
       "    </tr>\n",
       "    <tr>\n",
       "      <th>2</th>\n",
       "      <td>AGCGAGGAGTGAGTAGTCCT</td>\n",
       "      <td>AGCGAGGAGTGAGTAGTCCT</td>\n",
       "      <td>ACCGAGGAGTGAGTAGTCCT</td>\n",
       "      <td>C:G,2</td>\n",
       "      <td>ENST00000262262</td>\n",
       "      <td>52.47</td>\n",
       "      <td>3.072724</td>\n",
       "      <td>Mismatch</td>\n",
       "    </tr>\n",
       "    <tr>\n",
       "      <th>3</th>\n",
       "      <td>ACCGAGGAGTGAGTAGTCCA</td>\n",
       "      <td>ACCGAGGAGTGAGTAGTCCA</td>\n",
       "      <td>ACCGAGGAGTGAGTAGTCCT</td>\n",
       "      <td>T:A,20</td>\n",
       "      <td>ENST00000262262</td>\n",
       "      <td>52.47</td>\n",
       "      <td>3.057881</td>\n",
       "      <td>Mismatch</td>\n",
       "    </tr>\n",
       "    <tr>\n",
       "      <th>4</th>\n",
       "      <td>ACAGAGGAGTGAGTAGTCCT</td>\n",
       "      <td>ACAGAGGAGTGAGTAGTCCT</td>\n",
       "      <td>ACCGAGGAGTGAGTAGTCCT</td>\n",
       "      <td>C:A,3</td>\n",
       "      <td>ENST00000262262</td>\n",
       "      <td>52.47</td>\n",
       "      <td>3.051500</td>\n",
       "      <td>Mismatch</td>\n",
       "    </tr>\n",
       "  </tbody>\n",
       "</table>\n",
       "</div>"
      ],
      "text/plain": [
       "       ConstructBarcode       MutatedSequence            WTSequence  \\\n",
       "0  ACCGAGGATTGAGTAGTCCT  ACCGAGGATTGAGTAGTCCT  ACCGAGGAGTGAGTAGTCCT   \n",
       "1  ACTGAGGAGTGAGTAGTCCT  ACTGAGGAGTGAGTAGTCCT  ACCGAGGAGTGAGTAGTCCT   \n",
       "2  AGCGAGGAGTGAGTAGTCCT  AGCGAGGAGTGAGTAGTCCT  ACCGAGGAGTGAGTAGTCCT   \n",
       "3  ACCGAGGAGTGAGTAGTCCA  ACCGAGGAGTGAGTAGTCCA  ACCGAGGAGTGAGTAGTCCT   \n",
       "4  ACAGAGGAGTGAGTAGTCCT  ACAGAGGAGTGAGTAGTCCT  ACCGAGGAGTGAGTAGTCCT   \n",
       "\n",
       "  Annotation     TranscriptID  Protein Annotation  Day21-ETP  Category  \n",
       "0      G:T,9  ENST00000262262               52.47   3.694460  Mismatch  \n",
       "1      C:T,3  ENST00000262262               52.47   3.391395  Mismatch  \n",
       "2      C:G,2  ENST00000262262               52.47   3.072724  Mismatch  \n",
       "3     T:A,20  ENST00000262262               52.47   3.057881  Mismatch  \n",
       "4      C:A,3  ENST00000262262               52.47   3.051500  Mismatch  "
      ]
     },
     "execution_count": 2,
     "metadata": {},
     "output_type": "execute_result"
    }
   ],
   "source": [
    "cd_df = pd.read_csv('../data/CD33/CD33.1MM.3826.csv', sep='\\t')\n",
    "cd_df.head()"
   ]
  },
  {
   "cell_type": "code",
   "execution_count": 3,
   "metadata": {
    "collapsed": false
   },
   "outputs": [],
   "source": [
    "from scipy.stats import gaussian_kde"
   ]
  },
  {
   "cell_type": "code",
   "execution_count": 4,
   "metadata": {
    "collapsed": false
   },
   "outputs": [
    {
     "data": {
      "text/plain": [
       "(0, 1)"
      ]
     },
     "execution_count": 4,
     "metadata": {},
     "output_type": "execute_result"
    },
    {
     "data": {
      "image/png": "[encoded data removed]",
      "text/plain": [
       "<matplotlib.figure.Figure at 0x7f2aaf471e10>"
      ]
     },
     "metadata": {},
     "output_type": "display_data"
    }
   ],
   "source": [
    "fig, ax = plt.subplots(1,1)\n",
    "\n",
    "kde = gaussian_kde(cd_df['Day21-ETP'])\n",
    "\n",
    "trans = lambda x: kde.integrate_box_1d(-np.inf, x)\n",
    "cd_df['NormFrac'] = cd_df['Day21-ETP'].map(trans)\n",
    "cd_df['NormFrac'].plot(kind='kde', ax=ax)\n",
    "ax.set_xlim(0, 1)"
   ]
  },
  {
   "cell_type": "code",
   "execution_count": 5,
   "metadata": {
    "collapsed": true
   },
   "outputs": [],
   "source": [
    "hits = pd.DataFrame({'gRNA': cd_df['MutatedSequence'],\n",
    "                     'Seq': cd_df['WTSequence'].map(lambda x: x + 'NGG')})\n",
    "scores = cd_df['NormFrac']"
   ]
  },
  {
   "cell_type": "code",
   "execution_count": 39,
   "metadata": {
    "collapsed": false
   },
   "outputs": [],
   "source": [
    "from sklearn.pipeline import Pipeline\n",
    "from sklearn.linear_model import LogisticRegression, LinearRegression\n",
    "from sklearn.ensemble import AdaBoostClassifier\n",
    "from sklearn.model_selection import cross_val_score\n",
    "from sklearn.feature_selection import f_regression"
   ]
  },
  {
   "cell_type": "code",
   "execution_count": 35,
   "metadata": {
    "collapsed": true
   },
   "outputs": [],
   "source": [
    "tr = preprocessing.MatchingTransformer().transform(hits[['gRNA', 'Seq']].values)"
   ]
  },
  {
   "cell_type": "code",
   "execution_count": 41,
   "metadata": {
    "collapsed": false
   },
   "outputs": [
    {
     "name": "stderr",
     "output_type": "stream",
     "text": [
      "/home/will/anaconda/envs/crisprtree/lib/python3.5/site-packages/sklearn/feature_selection/univariate_selection.py:279: RuntimeWarning: invalid value encountered in true_divide\n",
      "  corr /= row_norms(X.T)\n",
      "/home/will/anaconda/envs/crisprtree/lib/python3.5/site-packages/scipy/stats/_distn_infrastructure.py:875: RuntimeWarning: invalid value encountered in greater\n",
      "  return (self.a < x) & (x < self.b)\n",
      "/home/will/anaconda/envs/crisprtree/lib/python3.5/site-packages/scipy/stats/_distn_infrastructure.py:875: RuntimeWarning: invalid value encountered in less\n",
      "  return (self.a < x) & (x < self.b)\n",
      "/home/will/anaconda/envs/crisprtree/lib/python3.5/site-packages/scipy/stats/_distn_infrastructure.py:1814: RuntimeWarning: invalid value encountered in less_equal\n",
      "  cond2 = cond0 & (x <= self.a)\n"
     ]
    }
   ],
   "source": [
    "f, p = f_regression(tr, cd_df['Day21-ETP'].values)"
   ]
  },
  {
   "cell_type": "code",
   "execution_count": 42,
   "metadata": {
    "collapsed": false
   },
   "outputs": [
    {
     "data": {
      "text/plain": [
       "<matplotlib.axes._subplots.AxesSubplot at 0x7f2a7788c518>"
      ]
     },
     "execution_count": 42,
     "metadata": {},
     "output_type": "execute_result"
    },
    {
     "data": {
      "image/png": "[encoded data removed]",
      "text/plain": [
       "<matplotlib.figure.Figure at 0x7f2a779bc1d0>"
      ]
     },
     "metadata": {},
     "output_type": "display_data"
    }
   ],
   "source": [
    "pd.Series(f).plot(kind='bar')"
   ]
  },
  {
   "cell_type": "code",
   "execution_count": 38,
   "metadata": {
    "collapsed": false
   },
   "outputs": [
    {
     "name": "stderr",
     "output_type": "stream",
     "text": [
      "/home/will/anaconda/envs/crisprtree/lib/python3.5/site-packages/matplotlib/cbook.py:136: MatplotlibDeprecationWarning: The axisbg attribute was deprecated in version 2.0. Use facecolor instead.\n",
      "  warnings.warn(message, mplDeprecation, stacklevel=1)\n"
     ]
    },
    {
     "data": {
      "text/plain": [
       "<seaborn.matrix.ClusterGrid at 0x7f2aa80d36d8>"
      ]
     },
     "execution_count": 38,
     "metadata": {},
     "output_type": "execute_result"
    },
    {
     "data": {
      "image/png": "[encoded data removed]",
      "text/plain": [
       "<matplotlib.figure.Figure at 0x7f2aa9d7e160>"
      ]
     },
     "metadata": {},
     "output_type": "display_data"
    }
   ],
   "source": [
    "sbn.clustermap(tr, xticklabels=False, yticklabels=False)"
   ]
  },
  {
   "cell_type": "code",
   "execution_count": 33,
   "metadata": {
    "collapsed": false
   },
   "outputs": [
    {
     "data": {
      "text/plain": [
       "array([ 0.02966276,  0.11357594,  0.09898445])"
      ]
     },
     "execution_count": 33,
     "metadata": {},
     "output_type": "execute_result"
    }
   ],
   "source": [
    "pipe = Pipeline(steps=[('transform', preprocessing.MatchingTransformer()),\n",
    "                       ('predict', LinearRegression())])\n",
    "\n",
    "cross_val_score(pipe, hits[['gRNA', 'Seq']].values, cd_df['Day21-ETP'])"
   ]
  },
  {
   "cell_type": "code",
   "execution_count": null,
   "metadata": {
    "collapsed": true
   },
   "outputs": [],
   "source": []
  }
 ],
 "metadata": {
  "kernelspec": {
   "display_name": "Python (crisprtree)",
   "language": "python",
   "name": "crisprtree"
  },
  "language_info": {
   "codemirror_mode": {
    "name": "ipython",
    "version": 3
   },
   "file_extension": ".py",
   "mimetype": "text/x-python",
   "name": "python",
   "nbconvert_exporter": "python",
   "pygments_lexer": "ipython3",
   "version": "3.5.2"
  }
 },
 "nbformat": 4,
 "nbformat_minor": 2
}
