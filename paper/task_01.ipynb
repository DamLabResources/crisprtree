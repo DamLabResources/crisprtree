{
 "cells": [
  {
   "cell_type": "code",
   "execution_count": 1,
   "metadata": {
    "collapsed": true
   },
   "outputs": [],
   "source": [
    "import sys\n",
    "sys.path.append('../')\n",
    "import crisprtree\n",
    "from crisprtree import utils\n",
    "from crisprtree import estimators\n",
    "from crisprtree import annotators"
   ]
  },
  {
   "cell_type": "code",
   "execution_count": 2,
   "metadata": {
    "collapsed": true
   },
   "outputs": [],
   "source": [
    "from Bio import SeqIO\n",
    "import gzip\n",
    "import pandas as pd\n",
    "import numpy as np\n",
    "import matplotlib.pyplot as plt\n",
    "import seaborn as sbn"
   ]
  },
  {
   "cell_type": "code",
   "execution_count": 3,
   "metadata": {
    "collapsed": true
   },
   "outputs": [],
   "source": [
    "with open('data/GCA_002855745.1_ASM285574v1_genomic.gbff') as handle:\n",
    "    genome = list(SeqIO.parse(handle, 'genbank'))[0]"
   ]
  },
  {
   "cell_type": "code",
   "execution_count": 4,
   "metadata": {},
   "outputs": [
    {
     "name": "stdout",
     "output_type": "stream",
     "text": [
      "Found\n"
     ]
    }
   ],
   "source": [
    "with open('data/addgene-plasmid-54622-sequence-158642.gbk') as handle:\n",
    "    plasmid = list(SeqIO.parse(handle, 'genbank'))[0]\n",
    "\n",
    "for rec in plasmid.features:\n",
    "    if rec.qualifiers.get('product', [''])[0].startswith('enhanced GFP'):\n",
    "        print('Found')\n",
    "        egfp_feature = rec\n",
    "        break\n",
    "        \n",
    "egfp_record = egfp_feature.extract(plasmid)"
   ]
  },
  {
   "cell_type": "code",
   "execution_count": 5,
   "metadata": {},
   "outputs": [
    {
     "data": {
      "text/plain": [
       "117"
      ]
     },
     "execution_count": 5,
     "metadata": {},
     "output_type": "execute_result"
    }
   ],
   "source": [
    "# TODO: Refactor extract_possible_targets to exclude the PAM, this is an old strategy\n",
    "possible_targets = utils.extract_possible_targets(egfp_record)\n",
    "len(possible_targets)"
   ]
  },
  {
   "cell_type": "code",
   "execution_count": 6,
   "metadata": {
    "collapsed": true
   },
   "outputs": [],
   "source": [
    "estimator = estimators.CFDEstimator.build_pipeline()"
   ]
  },
  {
   "cell_type": "code",
   "execution_count": 7,
   "metadata": {},
   "outputs": [
    {
     "data": {
      "text/plain": [
       "CCGTCCAGCTCGACCAGGAT    0.000616\n",
       "CGGTGGTGCAGATGAACTTC    0.001904\n",
       "GGGCGAGGAGCTGTTCACCG    0.002075\n",
       "ATGGCCGACAAGCAGAAGAA    0.002223\n",
       "CTGAAGTTCATCTGCACCAC    0.002320\n",
       "dtype: float64"
      ]
     },
     "execution_count": 7,
     "metadata": {},
     "output_type": "execute_result"
    }
   ],
   "source": [
    "results = {}\n",
    "for gRNA in possible_targets:\n",
    "    \n",
    "    #Refactor to use cas9-offinder!!!\n",
    "    possible_binding = utils.tile_seqrecord(gRNA, genome[:1000])\n",
    "    worst_off_score = max(estimator.predict_proba(possible_binding.values))\n",
    "    results[gRNA] = worst_off_score\n",
    "results = pd.Series(results).sort_values()\n",
    "results.head()\n"
   ]
  },
  {
   "cell_type": "code",
   "execution_count": 9,
   "metadata": {
    "collapsed": true
   },
   "outputs": [],
   "source": [
    "for key, val in results.head().to_dict().items():\n",
    "    annotators.annotate_grna_binding(key, egfp_record, \n",
    "                                     estimator, \n",
    "                                     extra_qualifiers = {'Off Target Score': val},\n",
    "                                     exhaustive=True)"
   ]
  },
  {
   "cell_type": "code",
   "execution_count": 10,
   "metadata": {},
   "outputs": [
    {
     "name": "stdout",
     "output_type": "stream",
     "text": [
      "459 1 ATGGCCGACAAGCAGAAGAA 0.00222330264208\n",
      "11 1 GGGCGAGGAGCTGTTCACCG 0.00207506825033\n",
      "39 -1 CCGTCCAGCTCGACCAGGAT 0.0006162427814\n",
      "132 1 CTGAAGTTCATCTGCACCAC 0.0023197807762\n",
      "131 -1 CGGTGGTGCAGATGAACTTC 0.00190428133879\n"
     ]
    }
   ],
   "source": [
    "for feat in egfp_record.features:\n",
    "    if 'gRNA' in feat.qualifiers:\n",
    "        print(feat.location.start, feat.location.strand, \n",
    "              feat.qualifiers['gRNA'], feat.qualifiers['Off Target Score'])"
   ]
  },
  {
   "cell_type": "code",
   "execution_count": null,
   "metadata": {
    "collapsed": true
   },
   "outputs": [],
   "source": []
  }
 ],
 "metadata": {
  "kernelspec": {
   "display_name": "Python 3",
   "language": "python",
   "name": "python3"
  },
  "language_info": {
   "codemirror_mode": {
    "name": "ipython",
    "version": 3
   },
   "file_extension": ".py",
   "mimetype": "text/x-python",
   "name": "python",
   "nbconvert_exporter": "python",
   "pygments_lexer": "ipython3",
   "version": "3.5.2"
  }
 },
 "nbformat": 4,
 "nbformat_minor": 2
}
