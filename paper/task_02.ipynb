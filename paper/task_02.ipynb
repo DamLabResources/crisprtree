{
 "cells": [
  {
   "cell_type": "markdown",
   "metadata": {},
   "source": [
    "# Introduction\n",
    "\n",
    "In this Task we will continue to imagine that we are in a lab studying the newly sequenced Clostridioides difficile genome. After the success of the EGFP knockdown experiment we are tasked with creating a protospacer library containing 5 protospacers targeting each gene with minimal off-target effects. This will allow for a large-scale knockout screen."
   ]
  },
  {
   "cell_type": "code",
   "execution_count": 1,
   "metadata": {
    "collapsed": true
   },
   "outputs": [],
   "source": [
    "import sys\n",
    "sys.path.append('../')\n",
    "import crisprtree\n",
    "from crisprtree import utils\n",
    "from crisprtree import estimators\n",
    "from crisprtree import annotators"
   ]
  },
  {
   "cell_type": "code",
   "execution_count": 2,
   "metadata": {
    "collapsed": true
   },
   "outputs": [],
   "source": [
    "from Bio import SeqIO\n",
    "from Bio.Seq import reverse_complement, BiopythonWarning\n",
    "import gzip\n",
    "import pandas as pd\n",
    "import numpy as np\n",
    "import matplotlib.pyplot as plt\n",
    "import seaborn as sbn\n",
    "from scipy.stats import hmean\n",
    "\n",
    "sbn.set(style = 'white', font_scale=1.5)\n",
    "%matplotlib inline\n",
    "\n",
    "\n",
    "import warnings\n",
    "warnings.simplefilter('ignore', category = BiopythonWarning)\n"
   ]
  },
  {
   "cell_type": "markdown",
   "metadata": {},
   "source": [
    "# Load sequences\n",
    "\n",
    "Standard Biopython tools can be used to load the Thermofilum sp. NZ13-TE1 genome and the AddGene plasmid."
   ]
  },
  {
   "cell_type": "code",
   "execution_count": 3,
   "metadata": {
    "collapsed": true
   },
   "outputs": [],
   "source": [
    "with open('data/Clostridioides_difficile_630.gb') as handle:\n",
    "    genome = list(SeqIO.parse(handle, 'genbank'))[0]"
   ]
  },
  {
   "cell_type": "markdown",
   "metadata": {},
   "source": [
    "# Algorithm\n",
    "\n",
    "The `crisprtree` library allows us to use a simple algorithm.\n",
    "\n",
    "`for each gene in C diff:`\n",
    "    1. Extract possible targets\n",
    "    2. Scan the genome (minus the target gene) for off-target hits\n",
    "    3. Exclude high-risk protospacers\n",
    "    4. Save 5 that pass the filter\n",
    "    \n",
    "    "
   ]
  },
  {
   "cell_type": "code",
   "execution_count": 11,
   "metadata": {},
   "outputs": [],
   "source": [
    "estimator = estimators.CFDEstimator.build_pipeline()\n",
    "\n",
    "library_grnas = []\n",
    "gene_info = []\n",
    "\n",
    "np.random.seed(0)\n",
    "\n",
    "genome_key = genome.id + ' ' + genome.description\n",
    "\n",
    "\n",
    "for feat in genome.features:\n",
    "    \n",
    "    if feat.type == 'CDS':\n",
    "        # Only target genes\n",
    "        \n",
    "        #if np.random.rand() >= 0.01:\n",
    "            # Only do ~1% of the genes\n",
    "            # For speed reasons\n",
    "        #    continue\n",
    "        \n",
    "        \n",
    "        # Get info about this gene\n",
    "        product = feat.qualifiers['product'][0]\n",
    "        tag = feat.qualifiers['locus_tag'][0]\n",
    "        gene_record = feat.extract(genome)\n",
    "        \n",
    "        # Get protospacers\n",
    "        possible_targets = utils.extract_possible_targets(gene_record)\n",
    "        \n",
    "        # Score hits\n",
    "        try:\n",
    "            possible_binding = utils.cas_offinder(possible_targets, 3, locus = [genome])\n",
    "        except FileNotFoundError:\n",
    "            continue\n",
    "        possible_binding['Score'] = estimator.predict_proba(possible_binding.values)\n",
    "        \n",
    "        # Set hits within the gene to be np.nan\n",
    "        slic = pd.IndexSlice[genome_key, :, feat.location.start:feat.location.end ]\n",
    "        possible_binding.loc[slic, 'Score'] = np.nan\n",
    "        \n",
    "        # Aggregate and sort off-target scan\n",
    "        offtarget_scores = possible_binding.groupby('spacer')['Score'].agg('max')\n",
    "        offtarget_scores.fillna(0, inplace=True) # Spacers which only have intragenic hit\n",
    "        offtarget_scores.sort_values(inplace=True)\n",
    "        \n",
    "        # Save information\n",
    "        gene_info.append({'Product': product,\n",
    "                          'Tag': tag,\n",
    "                          'UsefulGuides': (offtarget_scores<=0.25).sum()})\n",
    "        \n",
    "        \n",
    "        for protospacer, off_score in offtarget_scores.head().to_dict().items():\n",
    "            location = genome.seq.find(protospacer.back_transcribe())\n",
    "            strand = '+'\n",
    "            if location == -1:\n",
    "                location = genome.seq.find(reverse_complement(protospacer.back_transcribe()))\n",
    "                strand = '-'\n",
    "\n",
    "            library_grnas.append({'Product': product,\n",
    "                                  'Tag': tag,\n",
    "                                  'Protospacer': protospacer,\n",
    "                                  'Location': location,\n",
    "                                  'Strand': strand,\n",
    "                                  'Off Target Score': off_score})\n",
    "            \n",
    "gene_df = pd.DataFrame(gene_info)\n",
    "        \n",
    "library_df = pd.DataFrame(library_grnas)"
   ]
  },
  {
   "cell_type": "markdown",
   "metadata": {},
   "source": [
    "# Sucess?\n",
    "\n",
    "Our goal was to create 5 protospacers for each gene. Were we able to?"
   ]
  },
  {
   "cell_type": "code",
   "execution_count": 10,
   "metadata": {},
   "outputs": [
    {
     "data": {
      "image/png": "[encoded data removed]",
      "text/plain": [
       "<matplotlib.figure.Figure at 0x7fc715009f98>"
      ]
     },
     "metadata": {},
     "output_type": "display_data"
    }
   ],
   "source": [
    "useful_guides = gene_df['UsefulGuides'].sort_values()\n",
    "fig, ax = plt.subplots(1,1)\n",
    "ax.plot(useful_guides.values)\n",
    "ax.set_ylabel('Useful Guides')\n",
    "ax.set_xlabel('Gene')\n",
    "ax.hlines(5, 0, len(useful_guides), linestyle = '--')\n",
    "sbn.despine(ax=ax)\n",
    "fig.tight_layout()\n",
    "fig.savefig('Task2.pdf', dpi=300)"
   ]
  },
  {
   "cell_type": "code",
   "execution_count": null,
   "metadata": {},
   "outputs": [],
   "source": [
    "len(gene_df.query('UsefulGuides > 5').index), len(gene_df.index)"
   ]
  },
  {
   "cell_type": "code",
   "execution_count": null,
   "metadata": {
    "collapsed": true
   },
   "outputs": [],
   "source": []
  }
 ],
 "metadata": {
  "kernelspec": {
   "display_name": "Python (damnotebooks)",
   "language": "python",
   "name": "damnotebooks"
  },
  "language_info": {
   "codemirror_mode": {
    "name": "ipython",
    "version": 3
   },
   "file_extension": ".py",
   "mimetype": "text/x-python",
   "name": "python",
   "nbconvert_exporter": "python",
   "pygments_lexer": "ipython3",
   "version": "3.6.4"
  }
 },
 "nbformat": 4,
 "nbformat_minor": 2
}
