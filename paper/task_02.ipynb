{
 "cells": [
  {
   "cell_type": "code",
   "execution_count": 1,
   "metadata": {
    "collapsed": true
   },
   "outputs": [],
   "source": [
    "import sys\n",
    "sys.path.append('../')\n",
    "import crisprtree\n",
    "from crisprtree import utils\n",
    "from crisprtree import estimators\n",
    "from crisprtree import annotators"
   ]
  },
  {
   "cell_type": "code",
   "execution_count": 2,
   "metadata": {
    "collapsed": true
   },
   "outputs": [],
   "source": [
    "from Bio import SeqIO\n",
    "from Bio.Seq import reverse_complement\n",
    "import gzip\n",
    "import pandas as pd\n",
    "import numpy as np\n",
    "import matplotlib.pyplot as plt\n",
    "import seaborn as sbn\n",
    "from scipy.stats import hmean"
   ]
  },
  {
   "cell_type": "code",
   "execution_count": 3,
   "metadata": {
    "collapsed": true
   },
   "outputs": [],
   "source": [
    "with open('data/GCA_002855745.1_ASM285574v1_genomic.gbff') as handle:\n",
    "    genome = list(SeqIO.parse(handle, 'genbank'))[0]"
   ]
  },
  {
   "cell_type": "code",
   "execution_count": 4,
   "metadata": {
    "collapsed": true
   },
   "outputs": [],
   "source": [
    "estimator = estimators.CFDEstimator.build_pipeline()"
   ]
  },
  {
   "cell_type": "code",
   "execution_count": null,
   "metadata": {},
   "outputs": [],
   "source": [
    "library_grnas = []\n",
    "\n",
    "for feat in genome.features:\n",
    "    if feat.type == 'CDS':\n",
    "        product = feat.qualifiers['product'][0]\n",
    "        tag = feat.qualifiers['locus_tag'][0]\n",
    "        gene_record = feat.extract(genome)\n",
    "        possible_targets = utils.extract_possible_targets(gene_record)\n",
    "        \n",
    "        genome_minus_gene = genome[:feat.location.start] + genome[feat.location.end:]\n",
    "        \n",
    "        possible_binding = utils.cas_offinder(possible_targets, 5, seqs = [genome_minus_gene])\n",
    "        possible_binding['Score'] = estimator.predict_proba(possible_binding.values)\n",
    "        \n",
    "        offtarget_scores = possible_binding.groupby('gRNA')['Score'].agg('max')\n",
    "        offtarget_scores.sort_values(inplace=True)\n",
    "        \n",
    "        for protospacer, off_score in offtarget_scores.head().to_dict().items():\n",
    "            location = genome.seq.find(protospacer)\n",
    "            strand = '+'\n",
    "            if location == -1:\n",
    "                location = genome.seq.find(reverse_complement(protospacer))\n",
    "                strand = '-'\n",
    "\n",
    "            library_grnas.append({'Product': product,\n",
    "                                  'Tag': tag,\n",
    "                                  'Protospacer': protospacer,\n",
    "                                  'Location': location,\n",
    "                                  'Strand': strand,\n",
    "                                  'Off Target Score': off_score})\n",
    "        \n",
    "library_df = pd.DataFrame(library_grnas)"
   ]
  },
  {
   "cell_type": "code",
   "execution_count": null,
   "metadata": {},
   "outputs": [],
   "source": [
    "best_score = library_df.groupby(['Product', 'Tag'])['Off Target Score'].min()\n",
    "untargetable_products = best_score[best_score >= 0.5]\n",
    "untargetable_products"
   ]
  },
  {
   "cell_type": "code",
   "execution_count": null,
   "metadata": {
    "collapsed": true
   },
   "outputs": [],
   "source": []
  }
 ],
 "metadata": {
  "kernelspec": {
   "display_name": "Python 3",
   "language": "python",
   "name": "python3"
  },
  "language_info": {
   "codemirror_mode": {
    "name": "ipython",
    "version": 3
   },
   "file_extension": ".py",
   "mimetype": "text/x-python",
   "name": "python",
   "nbconvert_exporter": "python",
   "pygments_lexer": "ipython3",
   "version": "3.5.2"
  }
 },
 "nbformat": 4,
 "nbformat_minor": 2
}
