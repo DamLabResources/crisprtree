{
 "cells": [
  {
   "cell_type": "markdown",
   "metadata": {},
   "source": [
    "# Introduction\n",
    "\n",
    "In this Task we will continue to imagine that we are in a lab studying the newly sequenced Thermofilum sp. NZ13-TE1 strain. After the success of the EGFP knockdown experiment we are tasked with creating a protospacer library containing 5 protospacers targeting each gene with minimal off-target effects."
   ]
  },
  {
   "cell_type": "code",
   "execution_count": 13,
   "metadata": {
    "collapsed": true
   },
   "outputs": [],
   "source": [
    "import sys\n",
    "sys.path.append('../')\n",
    "import crisprtree\n",
    "from crisprtree import utils\n",
    "from crisprtree import estimators\n",
    "from crisprtree import annotators"
   ]
  },
  {
   "cell_type": "code",
   "execution_count": 22,
   "metadata": {
    "collapsed": true
   },
   "outputs": [],
   "source": [
    "from Bio import SeqIO\n",
    "from Bio.Seq import reverse_complement\n",
    "import gzip\n",
    "import pandas as pd\n",
    "import numpy as np\n",
    "import matplotlib.pyplot as plt\n",
    "import seaborn as sbn\n",
    "from scipy.stats import hmean\n",
    "\n",
    "sbn.set(style = 'white', font_scale=1.5)\n",
    "%matplotlib inline\n"
   ]
  },
  {
   "cell_type": "markdown",
   "metadata": {},
   "source": [
    "# Load sequences\n",
    "\n",
    "Standard Biopython tools can be used to load the Thermofilum sp. NZ13-TE1 genome and the AddGene plasmid."
   ]
  },
  {
   "cell_type": "code",
   "execution_count": 15,
   "metadata": {
    "collapsed": true
   },
   "outputs": [],
   "source": [
    "with open('data/GCA_002855745.1_ASM285574v1_genomic.gbff') as handle:\n",
    "    genome = list(SeqIO.parse(handle, 'genbank'))[0]"
   ]
  },
  {
   "cell_type": "markdown",
   "metadata": {},
   "source": [
    "# Algorithm\n",
    "\n",
    "The `crisprtree` library allows us to use a simple algorithm.\n",
    "\n",
    "`for each gene in Thermofilum:`\n",
    "    1. Extract possible targets\n",
    "    2. Scan the genome (minus the target gene) for off-target hits\n",
    "    3. Exclude high-risk protospacers\n",
    "    4. Save 5 that pass the filter\n",
    "    \n",
    "    "
   ]
  },
  {
   "cell_type": "code",
   "execution_count": 31,
   "metadata": {},
   "outputs": [],
   "source": [
    "estimator = estimators.CFDEstimator.build_pipeline()\n",
    "\n",
    "library_grnas = []\n",
    "\n",
    "gene_info = []\n",
    "\n",
    "for feat in genome.features:\n",
    "    if feat.type == 'CDS':\n",
    "        # Only target genes\n",
    "        \n",
    "        # Get info about this gene\n",
    "        product = feat.qualifiers['product'][0]\n",
    "        tag = feat.qualifiers['locus_tag'][0]\n",
    "        gene_record = feat.extract(genome)\n",
    "        \n",
    "        # Get protospacers\n",
    "        possible_targets = utils.extract_possible_targets(gene_record)\n",
    "        \n",
    "        # Score off-target hits\n",
    "        genome_minus_gene = genome[:feat.location.start] + genome[feat.location.end:]\n",
    "        possible_binding = utils.cas_offinder(possible_targets, 5, seqs = [genome_minus_gene])\n",
    "        possible_binding['Score'] = estimator.predict_proba(possible_binding.values)\n",
    "        \n",
    "        # Aggregate and sort off-target scan\n",
    "        offtarget_scores = possible_binding.groupby('gRNA')['Score'].agg('max')\n",
    "        offtarget_scores.sort_values(inplace=True)\n",
    "        \n",
    "        \n",
    "        # Save information\n",
    "        gene_info.append({'Product': product,\n",
    "                          'Tag': tag,\n",
    "                          'UsefulGuides': (offtarget_scores<=0.25).sum()})\n",
    "        \n",
    "        \n",
    "        for protospacer, off_score in offtarget_scores.head().to_dict().items():\n",
    "            location = genome.seq.find(protospacer)\n",
    "            strand = '+'\n",
    "            if location == -1:\n",
    "                location = genome.seq.find(reverse_complement(protospacer))\n",
    "                strand = '-'\n",
    "\n",
    "            library_grnas.append({'Product': product,\n",
    "                                  'Tag': tag,\n",
    "                                  'Protospacer': protospacer,\n",
    "                                  'Location': location,\n",
    "                                  'Strand': strand,\n",
    "                                  'Off Target Score': off_score})\n",
    "            \n",
    "gene_df = pd.DataFrame(gene_info)\n",
    "        \n",
    "library_df = pd.DataFrame(library_grnas)"
   ]
  },
  {
   "cell_type": "markdown",
   "metadata": {},
   "source": [
    "# Sucess?\n",
    "\n",
    "Our goal was to create 5 protospacers for each gene. Were we able to?"
   ]
  },
  {
   "cell_type": "code",
   "execution_count": 35,
   "metadata": {},
   "outputs": [
    {
     "data": {
      "image/png": "[encoded data removed]",
      "text/plain": [
       "<matplotlib.figure.Figure at 0x7f7088ad1a20>"
      ]
     },
     "metadata": {},
     "output_type": "display_data"
    }
   ],
   "source": [
    "useful_guides = gene_df['UsefulGuides'].sort_values()\n",
    "fig, ax = plt.subplots(1,1)\n",
    "ax.plot(useful_guides.values)\n",
    "ax.set_ylabel('Useful Guides')\n",
    "ax.set_xlabel('Gene')\n",
    "ax.hlines(5, 0, len(useful_guides), linestyle = '--')\n",
    "sbn.despine(ax=ax)"
   ]
  },
  {
   "cell_type": "code",
   "execution_count": 34,
   "metadata": {},
   "outputs": [
    {
     "data": {
      "text/html": [
       "<div>\n",
       "<style scoped>\n",
       "    .dataframe tbody tr th:only-of-type {\n",
       "        vertical-align: middle;\n",
       "    }\n",
       "\n",
       "    .dataframe tbody tr th {\n",
       "        vertical-align: top;\n",
       "    }\n",
       "\n",
       "    .dataframe thead th {\n",
       "        text-align: right;\n",
       "    }\n",
       "</style>\n",
       "<table border=\"1\" class=\"dataframe\">\n",
       "  <thead>\n",
       "    <tr style=\"text-align: right;\">\n",
       "      <th></th>\n",
       "      <th>Product</th>\n",
       "      <th>Tag</th>\n",
       "      <th>UsefulGuides</th>\n",
       "    </tr>\n",
       "  </thead>\n",
       "  <tbody>\n",
       "    <tr>\n",
       "      <th>150</th>\n",
       "      <td>hypothetical protein</td>\n",
       "      <td>B7L53_00760</td>\n",
       "      <td>4</td>\n",
       "    </tr>\n",
       "  </tbody>\n",
       "</table>\n",
       "</div>"
      ],
      "text/plain": [
       "                  Product          Tag  UsefulGuides\n",
       "150  hypothetical protein  B7L53_00760             4"
      ]
     },
     "execution_count": 34,
     "metadata": {},
     "output_type": "execute_result"
    }
   ],
   "source": [
    "gene_df.query('UsefulGuides < 5')"
   ]
  },
  {
   "cell_type": "markdown",
   "metadata": {},
   "source": [
    "Only 1 hypothetical protein had fewer than 5 useful targets."
   ]
  }
 ],
 "metadata": {
  "kernelspec": {
   "display_name": "Python 3",
   "language": "python",
   "name": "python3"
  },
  "language_info": {
   "codemirror_mode": {
    "name": "ipython",
    "version": 3
   },
   "file_extension": ".py",
   "mimetype": "text/x-python",
   "name": "python",
   "nbconvert_exporter": "python",
   "pygments_lexer": "ipython3",
   "version": "3.5.2"
  }
 },
 "nbformat": 4,
 "nbformat_minor": 2
}
